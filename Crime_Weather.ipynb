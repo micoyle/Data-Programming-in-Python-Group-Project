{
 "cells": [
  {
   "cell_type": "markdown",
   "metadata": {},
   "source": [
    "The project will be looking at forcasting crimes based upon weather data.  The data used is from Minneapolis, MN from 2015, 2016, and 2017.  The weather data is from the Minneapolis-St. Paul International Airport for the same years."
   ]
  },
  {
   "cell_type": "markdown",
   "metadata": {},
   "source": [
    "## Importing Modules"
   ]
  },
  {
   "cell_type": "code",
   "execution_count": 179,
   "metadata": {},
   "outputs": [],
   "source": [
    "from IPython.display import Image                   # image display\n",
    "import matplotlib.pyplot as plt                     # visualization\n",
    "import numpy as np                                  # random number generation\n",
    "import pandas as pd                                 # dataframes\n",
    "\n",
    "# inline display of plots\n",
    "%matplotlib inline\n",
    "\n",
    "from sklearn.cluster import KMeans                        # k-means clustering \n",
    "from sklearn.model_selection import train_test_split      # train/test data\n",
    "from sklearn.neighbors import KNeighborsClassifier        # k-NN classification \n",
    "from sklearn.linear_model import LogisticRegression       # logistic regression \n",
    "from sklearn.metrics import confusion_matrix\n",
    "from sklearn.metrics import accuracy_score, recall_score, precision_score, fbeta_score, classification_report"
   ]
  },
  {
   "cell_type": "markdown",
   "metadata": {},
   "source": [
    "## Loading the Datasets into Pandas Dataframes"
   ]
  },
  {
   "cell_type": "code",
   "execution_count": 78,
   "metadata": {},
   "outputs": [],
   "source": [
    "pd15 = pd.read_csv(\"data/Police_Incidents_2015.csv\", parse_dates=['BeginDate'], header=0)\n",
    "pd16 = pd.read_csv(\"data/Police_Incidents_2016.csv\", parse_dates=['BeginDate'], header=0)\n",
    "pd17 = pd.read_csv(\"data/Police_Incidents_2017.csv\", parse_dates=['BeginDate'], header=0)\n",
    "wx = pd.read_csv(\"data/MSP_weather.csv\", parse_dates=['DATE'], index_col=5, header=0)\n",
    "\n",
    "#pd15 = pd.read_csv(\"data/Police_Incidents_2015.csv\", parse_dates=['BeginDate'], header=0, usecols=['BeginDate', 'Time', 'Offense', 'Description', 'Neighborhood'])\n",
    "#pd16 = pd.read_csv(\"data/Police_Incidents_2016.csv\", parse_dates=['BeginDate'], header=0, usecols=['BeginDate', 'Time', 'Offense', 'Description', 'Neighborhood'])\n",
    "#pd17 = pd.read_csv(\"data/Police_Incidents_2017.csv\", parse_dates=['BeginDate'], header=0, usecols=['BeginDate', 'Time', 'Offense', 'Description', 'Neighborhood'])\n",
    "#wx = pd.read_csv(\"data/MSP_weather.csv\", index_col=0, parse_dates=True, header=0, usecols=['DATE', 'AWND', 'PRCP', 'SNOW', 'SNWD', 'TAVG', 'TMAX', 'TMIN', 'WT09'])"
   ]
  },
  {
   "cell_type": "markdown",
   "metadata": {},
   "source": [
    "## Combine the Police Incident Dataframes into One Dataframe"
   ]
  },
  {
   "cell_type": "code",
   "execution_count": 79,
   "metadata": {},
   "outputs": [],
   "source": [
    "# Append police dataframes\n",
    "pd_df = pd15.append(pd16, sort=False, ignore_index=True)  # ignores the existing row indices and creates new default indices\n",
    "pd_df = pd_df.append(pd17, sort=False, ignore_index=True)"
   ]
  },
  {
   "cell_type": "markdown",
   "metadata": {},
   "source": [
    "## Explore the Police and Weather Dataframes"
   ]
  },
  {
   "cell_type": "code",
   "execution_count": 81,
   "metadata": {},
   "outputs": [
    {
     "data": {
      "text/plain": [
       "(62238, 20)"
      ]
     },
     "execution_count": 81,
     "metadata": {},
     "output_type": "execute_result"
    }
   ],
   "source": [
    "pd_df.shape"
   ]
  },
  {
   "cell_type": "code",
   "execution_count": 28,
   "metadata": {
    "scrolled": true
   },
   "outputs": [
    {
     "name": "stdout",
     "output_type": "stream",
     "text": [
      "<class 'pandas.core.frame.DataFrame'>\n",
      "RangeIndex: 62238 entries, 0 to 62237\n",
      "Data columns (total 20 columns):\n",
      " #   Column          Non-Null Count  Dtype         \n",
      "---  ------          --------------  -----         \n",
      " 0   FID             62238 non-null  int64         \n",
      " 1   PublicAddress   62238 non-null  object        \n",
      " 2   ControlNbr      62238 non-null  int64         \n",
      " 3   CCN             62238 non-null  object        \n",
      " 4   Precinct        62199 non-null  float64       \n",
      " 5   ReportedDate    62238 non-null  object        \n",
      " 6   BeginDate       62238 non-null  datetime64[ns]\n",
      " 7   Time            62238 non-null  object        \n",
      " 8   Offense         62238 non-null  object        \n",
      " 9   Description     62238 non-null  object        \n",
      " 10  UCRCode         62238 non-null  int64         \n",
      " 11  EnteredDate     62238 non-null  object        \n",
      " 12  GBSID           54717 non-null  float64       \n",
      " 13  Lat             62238 non-null  float64       \n",
      " 14  Long            62238 non-null  float64       \n",
      " 15  X               62238 non-null  float64       \n",
      " 16  Y               62238 non-null  float64       \n",
      " 17  Neighborhood    62000 non-null  object        \n",
      " 18  LastChanged     62238 non-null  object        \n",
      " 19  LastUpdateDate  62238 non-null  object        \n",
      "dtypes: datetime64[ns](1), float64(6), int64(3), object(10)\n",
      "memory usage: 9.5+ MB\n"
     ]
    }
   ],
   "source": [
    "pd_df.info()"
   ]
  },
  {
   "cell_type": "code",
   "execution_count": 82,
   "metadata": {},
   "outputs": [
    {
     "data": {
      "text/plain": [
       "(1096, 45)"
      ]
     },
     "execution_count": 82,
     "metadata": {},
     "output_type": "execute_result"
    }
   ],
   "source": [
    "wx.shape"
   ]
  },
  {
   "cell_type": "code",
   "execution_count": 84,
   "metadata": {
    "scrolled": true
   },
   "outputs": [
    {
     "name": "stdout",
     "output_type": "stream",
     "text": [
      "<class 'pandas.core.frame.DataFrame'>\n",
      "DatetimeIndex: 1096 entries, 2015-01-01 to 2017-12-31\n",
      "Data columns (total 45 columns):\n",
      " #   Column           Non-Null Count  Dtype  \n",
      "---  ------           --------------  -----  \n",
      " 0   STATION          1096 non-null   object \n",
      " 1   NAME             1096 non-null   object \n",
      " 2   LATITUDE         1096 non-null   float64\n",
      " 3   LONGITUDE        1096 non-null   float64\n",
      " 4   ELEVATION        1096 non-null   float64\n",
      " 5   AWND             1096 non-null   float64\n",
      " 6   AWND_ATTRIBUTES  1096 non-null   object \n",
      " 7   PGTM             2 non-null      float64\n",
      " 8   PGTM_ATTRIBUTES  2 non-null      object \n",
      " 9   PRCP             1096 non-null   float64\n",
      " 10  PRCP_ATTRIBUTES  1096 non-null   object \n",
      " 11  SNOW             1096 non-null   float64\n",
      " 12  SNOW_ATTRIBUTES  1096 non-null   object \n",
      " 13  SNWD             1096 non-null   float64\n",
      " 14  SNWD_ATTRIBUTES  1096 non-null   object \n",
      " 15  TAVG             1096 non-null   int64  \n",
      " 16  TAVG_ATTRIBUTES  1096 non-null   object \n",
      " 17  TMAX             1096 non-null   int64  \n",
      " 18  TMAX_ATTRIBUTES  1096 non-null   object \n",
      " 19  TMIN             1096 non-null   int64  \n",
      " 20  TMIN_ATTRIBUTES  1096 non-null   object \n",
      " 21  WDF2             1096 non-null   int64  \n",
      " 22  WDF2_ATTRIBUTES  1096 non-null   object \n",
      " 23  WDF5             1096 non-null   int64  \n",
      " 24  WDF5_ATTRIBUTES  1096 non-null   object \n",
      " 25  WSF2             1096 non-null   float64\n",
      " 26  WSF2_ATTRIBUTES  1096 non-null   object \n",
      " 27  WSF5             1096 non-null   float64\n",
      " 28  WSF5_ATTRIBUTES  1096 non-null   object \n",
      " 29  WT01             447 non-null    float64\n",
      " 30  WT01_ATTRIBUTES  447 non-null    object \n",
      " 31  WT02             14 non-null     float64\n",
      " 32  WT02_ATTRIBUTES  14 non-null     object \n",
      " 33  WT03             146 non-null    float64\n",
      " 34  WT03_ATTRIBUTES  146 non-null    object \n",
      " 35  WT04             12 non-null     float64\n",
      " 36  WT04_ATTRIBUTES  12 non-null     object \n",
      " 37  WT05             3 non-null      float64\n",
      " 38  WT05_ATTRIBUTES  3 non-null      object \n",
      " 39  WT06             16 non-null     float64\n",
      " 40  WT06_ATTRIBUTES  16 non-null     object \n",
      " 41  WT08             268 non-null    float64\n",
      " 42  WT08_ATTRIBUTES  268 non-null    object \n",
      " 43  WT09             13 non-null     float64\n",
      " 44  WT09_ATTRIBUTES  13 non-null     object \n",
      "dtypes: float64(18), int64(5), object(22)\n",
      "memory usage: 393.9+ KB\n"
     ]
    }
   ],
   "source": [
    "wx.info()"
   ]
  },
  {
   "cell_type": "markdown",
   "metadata": {},
   "source": [
    "## Join the Police and Weather Dataframes"
   ]
  },
  {
   "cell_type": "code",
   "execution_count": 85,
   "metadata": {},
   "outputs": [],
   "source": [
    "# Strip date out of BeginDate column of police dataframe.\n",
    "pd_df['BeginDate'] = pd.to_datetime(pd_df['BeginDate']).dt.normalize()\n",
    "\n",
    "# Set BeginDate column as the index.\n",
    "pd_df = pd_df.set_index('BeginDate')                                       \n",
    "\n",
    "# Join the crime and weather dataframes using the intersection of the date indices.\n",
    "combined_df = pd_df.join(wx, how='inner')"
   ]
  },
  {
   "cell_type": "markdown",
   "metadata": {},
   "source": [
    "## Explore the Combined Dataframe"
   ]
  },
  {
   "cell_type": "code",
   "execution_count": 86,
   "metadata": {},
   "outputs": [
    {
     "data": {
      "text/plain": [
       "(61962, 64)"
      ]
     },
     "execution_count": 86,
     "metadata": {},
     "output_type": "execute_result"
    }
   ],
   "source": [
    "combined_df.shape"
   ]
  },
  {
   "cell_type": "code",
   "execution_count": 87,
   "metadata": {
    "scrolled": false
   },
   "outputs": [
    {
     "name": "stdout",
     "output_type": "stream",
     "text": [
      "<class 'pandas.core.frame.DataFrame'>\n",
      "DatetimeIndex: 61962 entries, 2015-01-01 to 2017-12-31\n",
      "Data columns (total 64 columns):\n",
      " #   Column           Non-Null Count  Dtype  \n",
      "---  ------           --------------  -----  \n",
      " 0   FID              61962 non-null  int64  \n",
      " 1   PublicAddress    61962 non-null  object \n",
      " 2   ControlNbr       61962 non-null  int64  \n",
      " 3   CCN              61962 non-null  object \n",
      " 4   Precinct         61923 non-null  float64\n",
      " 5   ReportedDate     61962 non-null  object \n",
      " 6   Time             61962 non-null  object \n",
      " 7   Offense          61962 non-null  object \n",
      " 8   Description      61962 non-null  object \n",
      " 9   UCRCode          61962 non-null  int64  \n",
      " 10  EnteredDate      61962 non-null  object \n",
      " 11  GBSID            54464 non-null  float64\n",
      " 12  Lat              61962 non-null  float64\n",
      " 13  Long             61962 non-null  float64\n",
      " 14  X                61962 non-null  float64\n",
      " 15  Y                61962 non-null  float64\n",
      " 16  Neighborhood     61724 non-null  object \n",
      " 17  LastChanged      61962 non-null  object \n",
      " 18  LastUpdateDate   61962 non-null  object \n",
      " 19  STATION          61962 non-null  object \n",
      " 20  NAME             61962 non-null  object \n",
      " 21  LATITUDE         61962 non-null  float64\n",
      " 22  LONGITUDE        61962 non-null  float64\n",
      " 23  ELEVATION        61962 non-null  float64\n",
      " 24  AWND             61962 non-null  float64\n",
      " 25  AWND_ATTRIBUTES  61962 non-null  object \n",
      " 26  PGTM             42 non-null     float64\n",
      " 27  PGTM_ATTRIBUTES  42 non-null     object \n",
      " 28  PRCP             61962 non-null  float64\n",
      " 29  PRCP_ATTRIBUTES  61962 non-null  object \n",
      " 30  SNOW             61962 non-null  float64\n",
      " 31  SNOW_ATTRIBUTES  61962 non-null  object \n",
      " 32  SNWD             61962 non-null  float64\n",
      " 33  SNWD_ATTRIBUTES  61962 non-null  object \n",
      " 34  TAVG             61962 non-null  int64  \n",
      " 35  TAVG_ATTRIBUTES  61962 non-null  object \n",
      " 36  TMAX             61962 non-null  int64  \n",
      " 37  TMAX_ATTRIBUTES  61962 non-null  object \n",
      " 38  TMIN             61962 non-null  int64  \n",
      " 39  TMIN_ATTRIBUTES  61962 non-null  object \n",
      " 40  WDF2             61962 non-null  int64  \n",
      " 41  WDF2_ATTRIBUTES  61962 non-null  object \n",
      " 42  WDF5             61962 non-null  int64  \n",
      " 43  WDF5_ATTRIBUTES  61962 non-null  object \n",
      " 44  WSF2             61962 non-null  float64\n",
      " 45  WSF2_ATTRIBUTES  61962 non-null  object \n",
      " 46  WSF5             61962 non-null  float64\n",
      " 47  WSF5_ATTRIBUTES  61962 non-null  object \n",
      " 48  WT01             24790 non-null  float64\n",
      " 49  WT01_ATTRIBUTES  24790 non-null  object \n",
      " 50  WT02             784 non-null    float64\n",
      " 51  WT02_ATTRIBUTES  784 non-null    object \n",
      " 52  WT03             9082 non-null   float64\n",
      " 53  WT03_ATTRIBUTES  9082 non-null   object \n",
      " 54  WT04             621 non-null    float64\n",
      " 55  WT04_ATTRIBUTES  621 non-null    object \n",
      " 56  WT05             195 non-null    float64\n",
      " 57  WT05_ATTRIBUTES  195 non-null    object \n",
      " 58  WT06             778 non-null    float64\n",
      " 59  WT06_ATTRIBUTES  778 non-null    object \n",
      " 60  WT08             14302 non-null  float64\n",
      " 61  WT08_ATTRIBUTES  14302 non-null  object \n",
      " 62  WT09             510 non-null    float64\n",
      " 63  WT09_ATTRIBUTES  510 non-null    object \n",
      "dtypes: float64(24), int64(8), object(32)\n",
      "memory usage: 30.7+ MB\n"
     ]
    }
   ],
   "source": [
    "combined_df.info()"
   ]
  },
  {
   "cell_type": "markdown",
   "metadata": {},
   "source": [
    "## Filtering Out Unnecessary Data"
   ]
  },
  {
   "cell_type": "code",
   "execution_count": 88,
   "metadata": {},
   "outputs": [],
   "source": [
    "combined_df = combined_df[['Time', 'Offense', 'Description', 'Neighborhood', 'AWND', 'PRCP', 'SNOW', 'SNWD', 'TAVG', 'TMAX', 'TMIN', 'WT09']]"
   ]
  },
  {
   "cell_type": "code",
   "execution_count": 89,
   "metadata": {},
   "outputs": [],
   "source": [
    "# Reset the index.\n",
    "combined_df.reset_index(inplace=True)\n",
    "\n",
    "# Rename column named index to Date.\n",
    "combined_df.rename(columns = {'index':'Date'}, inplace = True) "
   ]
  },
  {
   "cell_type": "code",
   "execution_count": 91,
   "metadata": {},
   "outputs": [
    {
     "data": {
      "text/plain": [
       "(61962, 13)"
      ]
     },
     "execution_count": 91,
     "metadata": {},
     "output_type": "execute_result"
    }
   ],
   "source": [
    "combined_df.shape"
   ]
  },
  {
   "cell_type": "code",
   "execution_count": 90,
   "metadata": {
    "scrolled": true
   },
   "outputs": [
    {
     "name": "stdout",
     "output_type": "stream",
     "text": [
      "<class 'pandas.core.frame.DataFrame'>\n",
      "RangeIndex: 61962 entries, 0 to 61961\n",
      "Data columns (total 13 columns):\n",
      " #   Column        Non-Null Count  Dtype         \n",
      "---  ------        --------------  -----         \n",
      " 0   Date          61962 non-null  datetime64[ns]\n",
      " 1   Time          61962 non-null  object        \n",
      " 2   Offense       61962 non-null  object        \n",
      " 3   Description   61962 non-null  object        \n",
      " 4   Neighborhood  61724 non-null  object        \n",
      " 5   AWND          61962 non-null  float64       \n",
      " 6   PRCP          61962 non-null  float64       \n",
      " 7   SNOW          61962 non-null  float64       \n",
      " 8   SNWD          61962 non-null  float64       \n",
      " 9   TAVG          61962 non-null  int64         \n",
      " 10  TMAX          61962 non-null  int64         \n",
      " 11  TMIN          61962 non-null  int64         \n",
      " 12  WT09          510 non-null    float64       \n",
      "dtypes: datetime64[ns](1), float64(5), int64(3), object(4)\n",
      "memory usage: 6.1+ MB\n"
     ]
    }
   ],
   "source": [
    "combined_df.info()"
   ]
  },
  {
   "cell_type": "markdown",
   "metadata": {},
   "source": [
    "## Handle Missing Values"
   ]
  },
  {
   "cell_type": "code",
   "execution_count": 61,
   "metadata": {
    "scrolled": true
   },
   "outputs": [
    {
     "data": {
      "text/plain": [
       "Date                0\n",
       "Time                0\n",
       "Offense             0\n",
       "Description         0\n",
       "Neighborhood      238\n",
       "AWND                0\n",
       "PRCP                0\n",
       "SNOW                0\n",
       "SNWD                0\n",
       "TAVG                0\n",
       "TMAX                0\n",
       "TMIN                0\n",
       "WT09            61452\n",
       "dtype: int64"
      ]
     },
     "execution_count": 61,
     "metadata": {},
     "output_type": "execute_result"
    }
   ],
   "source": [
    "combined_df.isna().sum()"
   ]
  },
  {
   "cell_type": "code",
   "execution_count": null,
   "metadata": {},
   "outputs": [],
   "source": [
    "# Need to add code here"
   ]
  },
  {
   "cell_type": "markdown",
   "metadata": {},
   "source": [
    "## Add Rain, Month and BusDay Columns"
   ]
  },
  {
   "cell_type": "code",
   "execution_count": 99,
   "metadata": {},
   "outputs": [],
   "source": [
    "# Add Rain column to indicate it rained on that day.\n",
    "combined_df['Rain'] = np.where((combined_df.PRCP > 0) & (combined_df.SNOW == 0), 1, 0)\n",
    "\n",
    "# Add Month column with abbreviated month name.\n",
    "months = (\"Jan\",\"Feb\",\"Mar\",\"Apr\",\"May\",\"Jun\",\"Jul\",\"Aug\",\"Sep\",\"Oct\",\"Nov\",\"Dec\")\n",
    "\n",
    "combined_df['Month'] = pd.Categorical([months[(combined_df.Date[i].month)-1] for i in range(len(combined_df))])\n",
    "\n",
    "# Add BusDay column to indicate if the Date is a business day or not.\n",
    "combined_df['BusDay'] = np.is_busday(combined_df.Date.dt.date) "
   ]
  },
  {
   "cell_type": "code",
   "execution_count": 100,
   "metadata": {
    "scrolled": true
   },
   "outputs": [
    {
     "name": "stdout",
     "output_type": "stream",
     "text": [
      "<class 'pandas.core.frame.DataFrame'>\n",
      "RangeIndex: 61962 entries, 0 to 61961\n",
      "Data columns (total 16 columns):\n",
      " #   Column        Non-Null Count  Dtype         \n",
      "---  ------        --------------  -----         \n",
      " 0   Date          61962 non-null  datetime64[ns]\n",
      " 1   Time          61962 non-null  object        \n",
      " 2   Offense       61962 non-null  object        \n",
      " 3   Description   61962 non-null  object        \n",
      " 4   Neighborhood  61724 non-null  object        \n",
      " 5   AWND          61962 non-null  float64       \n",
      " 6   PRCP          61962 non-null  float64       \n",
      " 7   SNOW          61962 non-null  float64       \n",
      " 8   SNWD          61962 non-null  float64       \n",
      " 9   TAVG          61962 non-null  int64         \n",
      " 10  TMAX          61962 non-null  int64         \n",
      " 11  TMIN          61962 non-null  int64         \n",
      " 12  WT09          510 non-null    float64       \n",
      " 13  Rain          61962 non-null  int32         \n",
      " 14  Month         61962 non-null  category      \n",
      " 15  BusDay        61962 non-null  bool          \n",
      "dtypes: bool(1), category(1), datetime64[ns](1), float64(5), int32(1), int64(3), object(4)\n",
      "memory usage: 6.5+ MB\n"
     ]
    }
   ],
   "source": [
    "combined_df.info()"
   ]
  },
  {
   "cell_type": "markdown",
   "metadata": {},
   "source": [
    "## Converting Categorical Columns into Numeric Columns"
   ]
  },
  {
   "cell_type": "code",
   "execution_count": 101,
   "metadata": {},
   "outputs": [],
   "source": [
    "combined_df.BusDay = pd.Categorical(combined_df.BusDay)   # Step 1: declare the column is categorical \n",
    "combined_df.BusDay = combined_df.BusDay.cat.codes         # Step 2: convert each category to its corresponding code"
   ]
  },
  {
   "cell_type": "code",
   "execution_count": 102,
   "metadata": {},
   "outputs": [
    {
     "data": {
      "text/html": [
       "<div>\n",
       "<style scoped>\n",
       "    .dataframe tbody tr th:only-of-type {\n",
       "        vertical-align: middle;\n",
       "    }\n",
       "\n",
       "    .dataframe tbody tr th {\n",
       "        vertical-align: top;\n",
       "    }\n",
       "\n",
       "    .dataframe thead th {\n",
       "        text-align: right;\n",
       "    }\n",
       "</style>\n",
       "<table border=\"1\" class=\"dataframe\">\n",
       "  <thead>\n",
       "    <tr style=\"text-align: right;\">\n",
       "      <th></th>\n",
       "      <th>Date</th>\n",
       "      <th>Time</th>\n",
       "      <th>Offense</th>\n",
       "      <th>Description</th>\n",
       "      <th>Neighborhood</th>\n",
       "      <th>AWND</th>\n",
       "      <th>PRCP</th>\n",
       "      <th>SNOW</th>\n",
       "      <th>SNWD</th>\n",
       "      <th>TAVG</th>\n",
       "      <th>TMAX</th>\n",
       "      <th>TMIN</th>\n",
       "      <th>WT09</th>\n",
       "      <th>Rain</th>\n",
       "      <th>Month</th>\n",
       "      <th>BusDay</th>\n",
       "    </tr>\n",
       "  </thead>\n",
       "  <tbody>\n",
       "    <tr>\n",
       "      <th>0</th>\n",
       "      <td>2015-01-01</td>\n",
       "      <td>01:05:00</td>\n",
       "      <td>ASLT2</td>\n",
       "      <td>Asslt W/dngrs Weapon</td>\n",
       "      <td>EAST PHILLIPS</td>\n",
       "      <td>10.51</td>\n",
       "      <td>0.0</td>\n",
       "      <td>0.0</td>\n",
       "      <td>3.1</td>\n",
       "      <td>18</td>\n",
       "      <td>30</td>\n",
       "      <td>11</td>\n",
       "      <td>NaN</td>\n",
       "      <td>0</td>\n",
       "      <td>Jan</td>\n",
       "      <td>1</td>\n",
       "    </tr>\n",
       "    <tr>\n",
       "      <th>1</th>\n",
       "      <td>2015-01-01</td>\n",
       "      <td>01:40:00</td>\n",
       "      <td>ROBPER</td>\n",
       "      <td>Robbery Of Person</td>\n",
       "      <td>DOWNTOWN WEST</td>\n",
       "      <td>10.51</td>\n",
       "      <td>0.0</td>\n",
       "      <td>0.0</td>\n",
       "      <td>3.1</td>\n",
       "      <td>18</td>\n",
       "      <td>30</td>\n",
       "      <td>11</td>\n",
       "      <td>NaN</td>\n",
       "      <td>0</td>\n",
       "      <td>Jan</td>\n",
       "      <td>1</td>\n",
       "    </tr>\n",
       "    <tr>\n",
       "      <th>2</th>\n",
       "      <td>2015-01-01</td>\n",
       "      <td>01:30:00</td>\n",
       "      <td>THEFT</td>\n",
       "      <td>Other Theft</td>\n",
       "      <td>LOWRY HILL EAST</td>\n",
       "      <td>10.51</td>\n",
       "      <td>0.0</td>\n",
       "      <td>0.0</td>\n",
       "      <td>3.1</td>\n",
       "      <td>18</td>\n",
       "      <td>30</td>\n",
       "      <td>11</td>\n",
       "      <td>NaN</td>\n",
       "      <td>0</td>\n",
       "      <td>Jan</td>\n",
       "      <td>1</td>\n",
       "    </tr>\n",
       "    <tr>\n",
       "      <th>3</th>\n",
       "      <td>2015-01-01</td>\n",
       "      <td>02:58:00</td>\n",
       "      <td>ASLT4</td>\n",
       "      <td>Aslt-police/emerg P</td>\n",
       "      <td>DOWNTOWN WEST</td>\n",
       "      <td>10.51</td>\n",
       "      <td>0.0</td>\n",
       "      <td>0.0</td>\n",
       "      <td>3.1</td>\n",
       "      <td>18</td>\n",
       "      <td>30</td>\n",
       "      <td>11</td>\n",
       "      <td>NaN</td>\n",
       "      <td>0</td>\n",
       "      <td>Jan</td>\n",
       "      <td>1</td>\n",
       "    </tr>\n",
       "    <tr>\n",
       "      <th>4</th>\n",
       "      <td>2015-01-01</td>\n",
       "      <td>01:45:00</td>\n",
       "      <td>AUTOTH</td>\n",
       "      <td>Motor Vehicle Theft</td>\n",
       "      <td>DOWNTOWN WEST</td>\n",
       "      <td>10.51</td>\n",
       "      <td>0.0</td>\n",
       "      <td>0.0</td>\n",
       "      <td>3.1</td>\n",
       "      <td>18</td>\n",
       "      <td>30</td>\n",
       "      <td>11</td>\n",
       "      <td>NaN</td>\n",
       "      <td>0</td>\n",
       "      <td>Jan</td>\n",
       "      <td>1</td>\n",
       "    </tr>\n",
       "  </tbody>\n",
       "</table>\n",
       "</div>"
      ],
      "text/plain": [
       "        Date      Time Offense           Description     Neighborhood   AWND  \\\n",
       "0 2015-01-01  01:05:00   ASLT2  Asslt W/dngrs Weapon    EAST PHILLIPS  10.51   \n",
       "1 2015-01-01  01:40:00  ROBPER     Robbery Of Person    DOWNTOWN WEST  10.51   \n",
       "2 2015-01-01  01:30:00   THEFT           Other Theft  LOWRY HILL EAST  10.51   \n",
       "3 2015-01-01  02:58:00   ASLT4   Aslt-police/emerg P    DOWNTOWN WEST  10.51   \n",
       "4 2015-01-01  01:45:00  AUTOTH   Motor Vehicle Theft    DOWNTOWN WEST  10.51   \n",
       "\n",
       "   PRCP  SNOW  SNWD  TAVG  TMAX  TMIN  WT09  Rain Month  BusDay  \n",
       "0   0.0   0.0   3.1    18    30    11   NaN     0   Jan       1  \n",
       "1   0.0   0.0   3.1    18    30    11   NaN     0   Jan       1  \n",
       "2   0.0   0.0   3.1    18    30    11   NaN     0   Jan       1  \n",
       "3   0.0   0.0   3.1    18    30    11   NaN     0   Jan       1  \n",
       "4   0.0   0.0   3.1    18    30    11   NaN     0   Jan       1  "
      ]
     },
     "execution_count": 102,
     "metadata": {},
     "output_type": "execute_result"
    }
   ],
   "source": [
    "combined_df.head()"
   ]
  },
  {
   "cell_type": "markdown",
   "metadata": {},
   "source": [
    "## Get Some Counts of the Data"
   ]
  },
  {
   "cell_type": "code",
   "execution_count": 104,
   "metadata": {
    "scrolled": true
   },
   "outputs": [
    {
     "data": {
      "image/png": "[encoded data removed]",
      "text/plain": [
       "<Figure size 1080x504 with 1 Axes>"
      ]
     },
     "metadata": {
      "needs_background": "light"
     },
     "output_type": "display_data"
    }
   ],
   "source": [
    "# Get count of each crime.\n",
    "crime_cnt = pd.DataFrame(combined_df.Description.value_counts())\n",
    "\n",
    "# Reset the index.\n",
    "crime_cnt.reset_index(inplace=True)\n",
    "\n",
    "# Rename columns.\n",
    "crime_cnt.rename(columns = {'Description':'Count', 'index':'Description'}, inplace = True)       \n",
    "\n",
    "# Create bar chart of the count of each crime.\n",
    "crime_cnt.plot(kind=\"bar\",title=\"Count of Each Crime\",x='Description', y='Count', grid=True, figsize=(15,7))\n",
    "plt.show()"
   ]
  },
  {
   "cell_type": "code",
   "execution_count": 106,
   "metadata": {
    "scrolled": true
   },
   "outputs": [
    {
     "data": {
      "text/html": [
       "<div>\n",
       "<style scoped>\n",
       "    .dataframe tbody tr th:only-of-type {\n",
       "        vertical-align: middle;\n",
       "    }\n",
       "\n",
       "    .dataframe tbody tr th {\n",
       "        vertical-align: top;\n",
       "    }\n",
       "\n",
       "    .dataframe thead th {\n",
       "        text-align: right;\n",
       "    }\n",
       "</style>\n",
       "<table border=\"1\" class=\"dataframe\">\n",
       "  <thead>\n",
       "    <tr style=\"text-align: right;\">\n",
       "      <th></th>\n",
       "      <th></th>\n",
       "      <th>Offense</th>\n",
       "    </tr>\n",
       "    <tr>\n",
       "      <th>Description</th>\n",
       "      <th>Month</th>\n",
       "      <th></th>\n",
       "    </tr>\n",
       "  </thead>\n",
       "  <tbody>\n",
       "    <tr>\n",
       "      <th rowspan=\"5\" valign=\"top\">1st Deg Domes Asslt</th>\n",
       "      <th>Apr</th>\n",
       "      <td>0</td>\n",
       "    </tr>\n",
       "    <tr>\n",
       "      <th>Aug</th>\n",
       "      <td>1</td>\n",
       "    </tr>\n",
       "    <tr>\n",
       "      <th>Dec</th>\n",
       "      <td>2</td>\n",
       "    </tr>\n",
       "    <tr>\n",
       "      <th>Feb</th>\n",
       "      <td>0</td>\n",
       "    </tr>\n",
       "    <tr>\n",
       "      <th>Jan</th>\n",
       "      <td>1</td>\n",
       "    </tr>\n",
       "    <tr>\n",
       "      <th>...</th>\n",
       "      <th>...</th>\n",
       "      <td>...</td>\n",
       "    </tr>\n",
       "    <tr>\n",
       "      <th rowspan=\"5\" valign=\"top\">Theft/coinop Device</th>\n",
       "      <th>Mar</th>\n",
       "      <td>2</td>\n",
       "    </tr>\n",
       "    <tr>\n",
       "      <th>May</th>\n",
       "      <td>1</td>\n",
       "    </tr>\n",
       "    <tr>\n",
       "      <th>Nov</th>\n",
       "      <td>7</td>\n",
       "    </tr>\n",
       "    <tr>\n",
       "      <th>Oct</th>\n",
       "      <td>1</td>\n",
       "    </tr>\n",
       "    <tr>\n",
       "      <th>Sep</th>\n",
       "      <td>11</td>\n",
       "    </tr>\n",
       "  </tbody>\n",
       "</table>\n",
       "<p>408 rows × 1 columns</p>\n",
       "</div>"
      ],
      "text/plain": [
       "                           Offense\n",
       "Description         Month         \n",
       "1st Deg Domes Asslt Apr          0\n",
       "                    Aug          1\n",
       "                    Dec          2\n",
       "                    Feb          0\n",
       "                    Jan          1\n",
       "...                            ...\n",
       "Theft/coinop Device Mar          2\n",
       "                    May          1\n",
       "                    Nov          7\n",
       "                    Oct          1\n",
       "                    Sep         11\n",
       "\n",
       "[408 rows x 1 columns]"
      ]
     },
     "execution_count": 106,
     "metadata": {},
     "output_type": "execute_result"
    }
   ],
   "source": [
    "# Get count of each crime per month.\n",
    "crime_mth = pd.DataFrame(combined_df.groupby([\"Description\", \"Month\"])[\"Offense\"].count())\n",
    "crime_mth"
   ]
  },
  {
   "cell_type": "code",
   "execution_count": 109,
   "metadata": {
    "scrolled": true
   },
   "outputs": [
    {
     "data": {
      "text/html": [
       "<div>\n",
       "<style scoped>\n",
       "    .dataframe tbody tr th:only-of-type {\n",
       "        vertical-align: middle;\n",
       "    }\n",
       "\n",
       "    .dataframe tbody tr th {\n",
       "        vertical-align: top;\n",
       "    }\n",
       "\n",
       "    .dataframe thead th {\n",
       "        text-align: right;\n",
       "    }\n",
       "</style>\n",
       "<table border=\"1\" class=\"dataframe\">\n",
       "  <thead>\n",
       "    <tr style=\"text-align: right;\">\n",
       "      <th></th>\n",
       "      <th></th>\n",
       "      <th>Offense</th>\n",
       "    </tr>\n",
       "    <tr>\n",
       "      <th>Neighborhood</th>\n",
       "      <th>Description</th>\n",
       "      <th></th>\n",
       "    </tr>\n",
       "  </thead>\n",
       "  <tbody>\n",
       "    <tr>\n",
       "      <th rowspan=\"5\" valign=\"top\">ARMATAGE</th>\n",
       "      <th>2nd Deg Domes Aslt</th>\n",
       "      <td>1</td>\n",
       "    </tr>\n",
       "    <tr>\n",
       "      <th>Arson</th>\n",
       "      <td>1</td>\n",
       "    </tr>\n",
       "    <tr>\n",
       "      <th>Asslt W/dngrs Weapon</th>\n",
       "      <td>3</td>\n",
       "    </tr>\n",
       "    <tr>\n",
       "      <th>Bike Theft</th>\n",
       "      <td>1</td>\n",
       "    </tr>\n",
       "    <tr>\n",
       "      <th>Burglary Of Business</th>\n",
       "      <td>6</td>\n",
       "    </tr>\n",
       "    <tr>\n",
       "      <th>...</th>\n",
       "      <th>...</th>\n",
       "      <td>...</td>\n",
       "    </tr>\n",
       "    <tr>\n",
       "      <th rowspan=\"5\" valign=\"top\">WINDOM PARK</th>\n",
       "      <th>Theft By Swindle</th>\n",
       "      <td>20</td>\n",
       "    </tr>\n",
       "    <tr>\n",
       "      <th>Theft From Building</th>\n",
       "      <td>1</td>\n",
       "    </tr>\n",
       "    <tr>\n",
       "      <th>Theft From Motr Vehc</th>\n",
       "      <td>59</td>\n",
       "    </tr>\n",
       "    <tr>\n",
       "      <th>Theft From Person</th>\n",
       "      <td>6</td>\n",
       "    </tr>\n",
       "    <tr>\n",
       "      <th>Theft-motr Veh Parts</th>\n",
       "      <td>3</td>\n",
       "    </tr>\n",
       "  </tbody>\n",
       "</table>\n",
       "<p>1854 rows × 1 columns</p>\n",
       "</div>"
      ],
      "text/plain": [
       "                                   Offense\n",
       "Neighborhood Description                  \n",
       "ARMATAGE     2nd Deg Domes Aslt          1\n",
       "             Arson                       1\n",
       "             Asslt W/dngrs Weapon        3\n",
       "             Bike Theft                  1\n",
       "             Burglary Of Business        6\n",
       "...                                    ...\n",
       "WINDOM PARK  Theft By Swindle           20\n",
       "             Theft From Building         1\n",
       "             Theft From Motr Vehc       59\n",
       "             Theft From Person           6\n",
       "             Theft-motr Veh Parts        3\n",
       "\n",
       "[1854 rows x 1 columns]"
      ]
     },
     "execution_count": 109,
     "metadata": {},
     "output_type": "execute_result"
    }
   ],
   "source": [
    "# Get count of each crime by neighborhood.\n",
    "crime_nbh = pd.DataFrame(combined_df.groupby([\"Neighborhood\", \"Description\"])[\"Offense\"].count())\n",
    "crime_nbh"
   ]
  },
  {
   "cell_type": "code",
   "execution_count": 141,
   "metadata": {
    "scrolled": true
   },
   "outputs": [
    {
     "data": {
      "text/html": [
       "<div>\n",
       "<style scoped>\n",
       "    .dataframe tbody tr th:only-of-type {\n",
       "        vertical-align: middle;\n",
       "    }\n",
       "\n",
       "    .dataframe tbody tr th {\n",
       "        vertical-align: top;\n",
       "    }\n",
       "\n",
       "    .dataframe thead th {\n",
       "        text-align: right;\n",
       "    }\n",
       "</style>\n",
       "<table border=\"1\" class=\"dataframe\">\n",
       "  <thead>\n",
       "    <tr style=\"text-align: right;\">\n",
       "      <th></th>\n",
       "      <th>PRCP</th>\n",
       "    </tr>\n",
       "    <tr>\n",
       "      <th>Description</th>\n",
       "      <th></th>\n",
       "    </tr>\n",
       "  </thead>\n",
       "  <tbody>\n",
       "    <tr>\n",
       "      <th>1st Deg Domes Asslt</th>\n",
       "      <td>0.047500</td>\n",
       "    </tr>\n",
       "    <tr>\n",
       "      <th>2nd Deg Domes Aslt</th>\n",
       "      <td>0.093413</td>\n",
       "    </tr>\n",
       "    <tr>\n",
       "      <th>3rd Deg Domes Aslt</th>\n",
       "      <td>0.078030</td>\n",
       "    </tr>\n",
       "    <tr>\n",
       "      <th>Arson</th>\n",
       "      <td>0.085216</td>\n",
       "    </tr>\n",
       "    <tr>\n",
       "      <th>Aslt-great Bodily Hm</th>\n",
       "      <td>0.219524</td>\n",
       "    </tr>\n",
       "    <tr>\n",
       "      <th>Aslt-police/emerg P</th>\n",
       "      <td>0.090701</td>\n",
       "    </tr>\n",
       "    <tr>\n",
       "      <th>Aslt-sgnfcnt Bdly Hm</th>\n",
       "      <td>0.131554</td>\n",
       "    </tr>\n",
       "    <tr>\n",
       "      <th>Asslt W/dngrs Weapon</th>\n",
       "      <td>0.101532</td>\n",
       "    </tr>\n",
       "    <tr>\n",
       "      <th>Bike Theft</th>\n",
       "      <td>0.116937</td>\n",
       "    </tr>\n",
       "    <tr>\n",
       "      <th>Burglary Of Business</th>\n",
       "      <td>0.085561</td>\n",
       "    </tr>\n",
       "    <tr>\n",
       "      <th>Burglary Of Dwelling</th>\n",
       "      <td>0.110420</td>\n",
       "    </tr>\n",
       "    <tr>\n",
       "      <th>Crim Sex Cond-rape</th>\n",
       "      <td>0.095322</td>\n",
       "    </tr>\n",
       "    <tr>\n",
       "      <th>Disarm a Police Officer</th>\n",
       "      <td>0.061667</td>\n",
       "    </tr>\n",
       "    <tr>\n",
       "      <th>Domestic Assault/Strangulation</th>\n",
       "      <td>0.083321</td>\n",
       "    </tr>\n",
       "    <tr>\n",
       "      <th>Gas Station Driv-off</th>\n",
       "      <td>0.003810</td>\n",
       "    </tr>\n",
       "    <tr>\n",
       "      <th>Looting</th>\n",
       "      <td>0.000000</td>\n",
       "    </tr>\n",
       "    <tr>\n",
       "      <th>Motor Vehicle Theft</th>\n",
       "      <td>0.101561</td>\n",
       "    </tr>\n",
       "    <tr>\n",
       "      <th>Murder (general)</th>\n",
       "      <td>0.092338</td>\n",
       "    </tr>\n",
       "    <tr>\n",
       "      <th>On-line Theft</th>\n",
       "      <td>0.033750</td>\n",
       "    </tr>\n",
       "    <tr>\n",
       "      <th>Other Theft</th>\n",
       "      <td>0.097974</td>\n",
       "    </tr>\n",
       "    <tr>\n",
       "      <th>Other Vehicle Theft</th>\n",
       "      <td>0.126479</td>\n",
       "    </tr>\n",
       "    <tr>\n",
       "      <th>Pocket-picking</th>\n",
       "      <td>0.046667</td>\n",
       "    </tr>\n",
       "    <tr>\n",
       "      <th>Robbery Of Business</th>\n",
       "      <td>0.124370</td>\n",
       "    </tr>\n",
       "    <tr>\n",
       "      <th>Robbery Of Person</th>\n",
       "      <td>0.098190</td>\n",
       "    </tr>\n",
       "    <tr>\n",
       "      <th>Robbery Per Agg</th>\n",
       "      <td>0.110893</td>\n",
       "    </tr>\n",
       "    <tr>\n",
       "      <th>Scrapping-Recycling Theft</th>\n",
       "      <td>0.100000</td>\n",
       "    </tr>\n",
       "    <tr>\n",
       "      <th>Shoplifting</th>\n",
       "      <td>0.097270</td>\n",
       "    </tr>\n",
       "    <tr>\n",
       "      <th>Theft By Computer</th>\n",
       "      <td>0.126667</td>\n",
       "    </tr>\n",
       "    <tr>\n",
       "      <th>Theft By Swindle</th>\n",
       "      <td>0.087239</td>\n",
       "    </tr>\n",
       "    <tr>\n",
       "      <th>Theft From Building</th>\n",
       "      <td>0.100652</td>\n",
       "    </tr>\n",
       "    <tr>\n",
       "      <th>Theft From Motr Vehc</th>\n",
       "      <td>0.108709</td>\n",
       "    </tr>\n",
       "    <tr>\n",
       "      <th>Theft From Person</th>\n",
       "      <td>0.092848</td>\n",
       "    </tr>\n",
       "    <tr>\n",
       "      <th>Theft-motr Veh Parts</th>\n",
       "      <td>0.086865</td>\n",
       "    </tr>\n",
       "    <tr>\n",
       "      <th>Theft/coinop Device</th>\n",
       "      <td>0.050476</td>\n",
       "    </tr>\n",
       "  </tbody>\n",
       "</table>\n",
       "</div>"
      ],
      "text/plain": [
       "                                    PRCP\n",
       "Description                             \n",
       "1st Deg Domes Asslt             0.047500\n",
       "2nd Deg Domes Aslt              0.093413\n",
       "3rd Deg Domes Aslt              0.078030\n",
       "Arson                           0.085216\n",
       "Aslt-great Bodily Hm            0.219524\n",
       "Aslt-police/emerg P             0.090701\n",
       "Aslt-sgnfcnt Bdly Hm            0.131554\n",
       "Asslt W/dngrs Weapon            0.101532\n",
       "Bike Theft                      0.116937\n",
       "Burglary Of Business            0.085561\n",
       "Burglary Of Dwelling            0.110420\n",
       "Crim Sex Cond-rape              0.095322\n",
       "Disarm a Police Officer         0.061667\n",
       "Domestic Assault/Strangulation  0.083321\n",
       "Gas Station Driv-off            0.003810\n",
       "Looting                         0.000000\n",
       "Motor Vehicle Theft             0.101561\n",
       "Murder (general)                0.092338\n",
       "On-line Theft                   0.033750\n",
       "Other Theft                     0.097974\n",
       "Other Vehicle Theft             0.126479\n",
       "Pocket-picking                  0.046667\n",
       "Robbery Of Business             0.124370\n",
       "Robbery Of Person               0.098190\n",
       "Robbery Per Agg                 0.110893\n",
       "Scrapping-Recycling Theft       0.100000\n",
       "Shoplifting                     0.097270\n",
       "Theft By Computer               0.126667\n",
       "Theft By Swindle                0.087239\n",
       "Theft From Building             0.100652\n",
       "Theft From Motr Vehc            0.108709\n",
       "Theft From Person               0.092848\n",
       "Theft-motr Veh Parts            0.086865\n",
       "Theft/coinop Device             0.050476"
      ]
     },
     "execution_count": 141,
     "metadata": {},
     "output_type": "execute_result"
    }
   ],
   "source": [
    "# Get avg. Precipitation by Crime.\n",
    "s = combined_df.groupby([\"Description\"]).PRCP.mean()        \n",
    "\n",
    "# Convert Pandas series to Pandas dataframe.\n",
    "precip_avgs = pd.DataFrame(s)                                  \n",
    "\n",
    "precip_avgs"
   ]
  },
  {
   "cell_type": "code",
   "execution_count": 111,
   "metadata": {},
   "outputs": [
    {
     "data": {
      "text/html": [
       "<div>\n",
       "<style scoped>\n",
       "    .dataframe tbody tr th:only-of-type {\n",
       "        vertical-align: middle;\n",
       "    }\n",
       "\n",
       "    .dataframe tbody tr th {\n",
       "        vertical-align: top;\n",
       "    }\n",
       "\n",
       "    .dataframe thead th {\n",
       "        text-align: right;\n",
       "    }\n",
       "</style>\n",
       "<table border=\"1\" class=\"dataframe\">\n",
       "  <thead>\n",
       "    <tr style=\"text-align: right;\">\n",
       "      <th></th>\n",
       "      <th>Description</th>\n",
       "    </tr>\n",
       "  </thead>\n",
       "  <tbody>\n",
       "    <tr>\n",
       "      <th>Other Theft</th>\n",
       "      <td>4529</td>\n",
       "    </tr>\n",
       "    <tr>\n",
       "      <th>Theft From Motr Vehc</th>\n",
       "      <td>2687</td>\n",
       "    </tr>\n",
       "    <tr>\n",
       "      <th>Burglary Of Dwelling</th>\n",
       "      <td>2458</td>\n",
       "    </tr>\n",
       "    <tr>\n",
       "      <th>Motor Vehicle Theft</th>\n",
       "      <td>1417</td>\n",
       "    </tr>\n",
       "    <tr>\n",
       "      <th>Robbery Per Agg</th>\n",
       "      <td>772</td>\n",
       "    </tr>\n",
       "    <tr>\n",
       "      <th>Bike Theft</th>\n",
       "      <td>754</td>\n",
       "    </tr>\n",
       "    <tr>\n",
       "      <th>Shoplifting</th>\n",
       "      <td>739</td>\n",
       "    </tr>\n",
       "    <tr>\n",
       "      <th>Asslt W/dngrs Weapon</th>\n",
       "      <td>630</td>\n",
       "    </tr>\n",
       "    <tr>\n",
       "      <th>Robbery Of Person</th>\n",
       "      <td>580</td>\n",
       "    </tr>\n",
       "    <tr>\n",
       "      <th>Burglary Of Business</th>\n",
       "      <td>468</td>\n",
       "    </tr>\n",
       "    <tr>\n",
       "      <th>Theft From Person</th>\n",
       "      <td>266</td>\n",
       "    </tr>\n",
       "    <tr>\n",
       "      <th>Crim Sex Cond-rape</th>\n",
       "      <td>243</td>\n",
       "    </tr>\n",
       "    <tr>\n",
       "      <th>Domestic Assault/Strangulation</th>\n",
       "      <td>218</td>\n",
       "    </tr>\n",
       "    <tr>\n",
       "      <th>Theft By Swindle</th>\n",
       "      <td>214</td>\n",
       "    </tr>\n",
       "    <tr>\n",
       "      <th>2nd Deg Domes Aslt</th>\n",
       "      <td>199</td>\n",
       "    </tr>\n",
       "    <tr>\n",
       "      <th>Aslt-sgnfcnt Bdly Hm</th>\n",
       "      <td>163</td>\n",
       "    </tr>\n",
       "    <tr>\n",
       "      <th>Robbery Of Business</th>\n",
       "      <td>90</td>\n",
       "    </tr>\n",
       "    <tr>\n",
       "      <th>Theft-motr Veh Parts</th>\n",
       "      <td>83</td>\n",
       "    </tr>\n",
       "    <tr>\n",
       "      <th>Arson</th>\n",
       "      <td>81</td>\n",
       "    </tr>\n",
       "    <tr>\n",
       "      <th>Aslt-police/emerg P</th>\n",
       "      <td>69</td>\n",
       "    </tr>\n",
       "    <tr>\n",
       "      <th>Theft From Building</th>\n",
       "      <td>64</td>\n",
       "    </tr>\n",
       "    <tr>\n",
       "      <th>3rd Deg Domes Aslt</th>\n",
       "      <td>47</td>\n",
       "    </tr>\n",
       "    <tr>\n",
       "      <th>Other Vehicle Theft</th>\n",
       "      <td>26</td>\n",
       "    </tr>\n",
       "    <tr>\n",
       "      <th>Murder (general)</th>\n",
       "      <td>26</td>\n",
       "    </tr>\n",
       "    <tr>\n",
       "      <th>Aslt-great Bodily Hm</th>\n",
       "      <td>21</td>\n",
       "    </tr>\n",
       "    <tr>\n",
       "      <th>Theft/coinop Device</th>\n",
       "      <td>9</td>\n",
       "    </tr>\n",
       "    <tr>\n",
       "      <th>Theft By Computer</th>\n",
       "      <td>6</td>\n",
       "    </tr>\n",
       "    <tr>\n",
       "      <th>Scrapping-Recycling Theft</th>\n",
       "      <td>4</td>\n",
       "    </tr>\n",
       "    <tr>\n",
       "      <th>On-line Theft</th>\n",
       "      <td>2</td>\n",
       "    </tr>\n",
       "    <tr>\n",
       "      <th>Gas Station Driv-off</th>\n",
       "      <td>2</td>\n",
       "    </tr>\n",
       "    <tr>\n",
       "      <th>1st Deg Domes Asslt</th>\n",
       "      <td>1</td>\n",
       "    </tr>\n",
       "    <tr>\n",
       "      <th>Pocket-picking</th>\n",
       "      <td>1</td>\n",
       "    </tr>\n",
       "  </tbody>\n",
       "</table>\n",
       "</div>"
      ],
      "text/plain": [
       "                                Description\n",
       "Other Theft                            4529\n",
       "Theft From Motr Vehc                   2687\n",
       "Burglary Of Dwelling                   2458\n",
       "Motor Vehicle Theft                    1417\n",
       "Robbery Per Agg                         772\n",
       "Bike Theft                              754\n",
       "Shoplifting                             739\n",
       "Asslt W/dngrs Weapon                    630\n",
       "Robbery Of Person                       580\n",
       "Burglary Of Business                    468\n",
       "Theft From Person                       266\n",
       "Crim Sex Cond-rape                      243\n",
       "Domestic Assault/Strangulation          218\n",
       "Theft By Swindle                        214\n",
       "2nd Deg Domes Aslt                      199\n",
       "Aslt-sgnfcnt Bdly Hm                    163\n",
       "Robbery Of Business                      90\n",
       "Theft-motr Veh Parts                     83\n",
       "Arson                                    81\n",
       "Aslt-police/emerg P                      69\n",
       "Theft From Building                      64\n",
       "3rd Deg Domes Aslt                       47\n",
       "Other Vehicle Theft                      26\n",
       "Murder (general)                         26\n",
       "Aslt-great Bodily Hm                     21\n",
       "Theft/coinop Device                       9\n",
       "Theft By Computer                         6\n",
       "Scrapping-Recycling Theft                 4\n",
       "On-line Theft                             2\n",
       "Gas Station Driv-off                      2\n",
       "1st Deg Domes Asslt                       1\n",
       "Pocket-picking                            1"
      ]
     },
     "execution_count": 111,
     "metadata": {},
     "output_type": "execute_result"
    }
   ],
   "source": [
    "# Filter to only include crimes committed on rainy days.\n",
    "rain_crime = pd.DataFrame(combined_df[combined_df.Rain == 1])\n",
    "\n",
    "# Get count of crimes commited on rainy days.\n",
    "rain_crime_cnt = pd.DataFrame(rain_crime.Description.value_counts())\n",
    "rain_crime_cnt"
   ]
  },
  {
   "cell_type": "code",
   "execution_count": 113,
   "metadata": {},
   "outputs": [
    {
     "data": {
      "text/html": [
       "<div>\n",
       "<style scoped>\n",
       "    .dataframe tbody tr th:only-of-type {\n",
       "        vertical-align: middle;\n",
       "    }\n",
       "\n",
       "    .dataframe tbody tr th {\n",
       "        vertical-align: top;\n",
       "    }\n",
       "\n",
       "    .dataframe thead th {\n",
       "        text-align: right;\n",
       "    }\n",
       "</style>\n",
       "<table border=\"1\" class=\"dataframe\">\n",
       "  <thead>\n",
       "    <tr style=\"text-align: right;\">\n",
       "      <th></th>\n",
       "      <th>Description</th>\n",
       "    </tr>\n",
       "  </thead>\n",
       "  <tbody>\n",
       "    <tr>\n",
       "      <th>Other Theft</th>\n",
       "      <td>11444</td>\n",
       "    </tr>\n",
       "    <tr>\n",
       "      <th>Theft From Motr Vehc</th>\n",
       "      <td>6045</td>\n",
       "    </tr>\n",
       "    <tr>\n",
       "      <th>Burglary Of Dwelling</th>\n",
       "      <td>5594</td>\n",
       "    </tr>\n",
       "    <tr>\n",
       "      <th>Motor Vehicle Theft</th>\n",
       "      <td>3628</td>\n",
       "    </tr>\n",
       "    <tr>\n",
       "      <th>Shoplifting</th>\n",
       "      <td>1984</td>\n",
       "    </tr>\n",
       "    <tr>\n",
       "      <th>Robbery Per Agg</th>\n",
       "      <td>1762</td>\n",
       "    </tr>\n",
       "    <tr>\n",
       "      <th>Asslt W/dngrs Weapon</th>\n",
       "      <td>1573</td>\n",
       "    </tr>\n",
       "    <tr>\n",
       "      <th>Bike Theft</th>\n",
       "      <td>1558</td>\n",
       "    </tr>\n",
       "    <tr>\n",
       "      <th>Robbery Of Person</th>\n",
       "      <td>1364</td>\n",
       "    </tr>\n",
       "    <tr>\n",
       "      <th>Burglary Of Business</th>\n",
       "      <td>1206</td>\n",
       "    </tr>\n",
       "    <tr>\n",
       "      <th>Theft From Person</th>\n",
       "      <td>655</td>\n",
       "    </tr>\n",
       "    <tr>\n",
       "      <th>Theft By Swindle</th>\n",
       "      <td>632</td>\n",
       "    </tr>\n",
       "    <tr>\n",
       "      <th>Crim Sex Cond-rape</th>\n",
       "      <td>592</td>\n",
       "    </tr>\n",
       "    <tr>\n",
       "      <th>Domestic Assault/Strangulation</th>\n",
       "      <td>568</td>\n",
       "    </tr>\n",
       "    <tr>\n",
       "      <th>2nd Deg Domes Aslt</th>\n",
       "      <td>525</td>\n",
       "    </tr>\n",
       "    <tr>\n",
       "      <th>Aslt-sgnfcnt Bdly Hm</th>\n",
       "      <td>388</td>\n",
       "    </tr>\n",
       "    <tr>\n",
       "      <th>Robbery Of Business</th>\n",
       "      <td>234</td>\n",
       "    </tr>\n",
       "    <tr>\n",
       "      <th>Theft-motr Veh Parts</th>\n",
       "      <td>198</td>\n",
       "    </tr>\n",
       "    <tr>\n",
       "      <th>Arson</th>\n",
       "      <td>191</td>\n",
       "    </tr>\n",
       "    <tr>\n",
       "      <th>Theft From Building</th>\n",
       "      <td>190</td>\n",
       "    </tr>\n",
       "    <tr>\n",
       "      <th>Aslt-police/emerg P</th>\n",
       "      <td>183</td>\n",
       "    </tr>\n",
       "    <tr>\n",
       "      <th>3rd Deg Domes Aslt</th>\n",
       "      <td>140</td>\n",
       "    </tr>\n",
       "    <tr>\n",
       "      <th>Murder (general)</th>\n",
       "      <td>50</td>\n",
       "    </tr>\n",
       "    <tr>\n",
       "      <th>Other Vehicle Theft</th>\n",
       "      <td>40</td>\n",
       "    </tr>\n",
       "    <tr>\n",
       "      <th>Aslt-great Bodily Hm</th>\n",
       "      <td>35</td>\n",
       "    </tr>\n",
       "    <tr>\n",
       "      <th>Theft/coinop Device</th>\n",
       "      <td>30</td>\n",
       "    </tr>\n",
       "    <tr>\n",
       "      <th>Gas Station Driv-off</th>\n",
       "      <td>17</td>\n",
       "    </tr>\n",
       "    <tr>\n",
       "      <th>1st Deg Domes Asslt</th>\n",
       "      <td>10</td>\n",
       "    </tr>\n",
       "    <tr>\n",
       "      <th>Theft By Computer</th>\n",
       "      <td>5</td>\n",
       "    </tr>\n",
       "    <tr>\n",
       "      <th>Disarm a Police Officer</th>\n",
       "      <td>4</td>\n",
       "    </tr>\n",
       "    <tr>\n",
       "      <th>On-line Theft</th>\n",
       "      <td>4</td>\n",
       "    </tr>\n",
       "    <tr>\n",
       "      <th>Scrapping-Recycling Theft</th>\n",
       "      <td>3</td>\n",
       "    </tr>\n",
       "    <tr>\n",
       "      <th>Pocket-picking</th>\n",
       "      <td>2</td>\n",
       "    </tr>\n",
       "    <tr>\n",
       "      <th>Looting</th>\n",
       "      <td>1</td>\n",
       "    </tr>\n",
       "  </tbody>\n",
       "</table>\n",
       "</div>"
      ],
      "text/plain": [
       "                                Description\n",
       "Other Theft                           11444\n",
       "Theft From Motr Vehc                   6045\n",
       "Burglary Of Dwelling                   5594\n",
       "Motor Vehicle Theft                    3628\n",
       "Shoplifting                            1984\n",
       "Robbery Per Agg                        1762\n",
       "Asslt W/dngrs Weapon                   1573\n",
       "Bike Theft                             1558\n",
       "Robbery Of Person                      1364\n",
       "Burglary Of Business                   1206\n",
       "Theft From Person                       655\n",
       "Theft By Swindle                        632\n",
       "Crim Sex Cond-rape                      592\n",
       "Domestic Assault/Strangulation          568\n",
       "2nd Deg Domes Aslt                      525\n",
       "Aslt-sgnfcnt Bdly Hm                    388\n",
       "Robbery Of Business                     234\n",
       "Theft-motr Veh Parts                    198\n",
       "Arson                                   191\n",
       "Theft From Building                     190\n",
       "Aslt-police/emerg P                     183\n",
       "3rd Deg Domes Aslt                      140\n",
       "Murder (general)                         50\n",
       "Other Vehicle Theft                      40\n",
       "Aslt-great Bodily Hm                     35\n",
       "Theft/coinop Device                      30\n",
       "Gas Station Driv-off                     17\n",
       "1st Deg Domes Asslt                      10\n",
       "Theft By Computer                         5\n",
       "Disarm a Police Officer                   4\n",
       "On-line Theft                             4\n",
       "Scrapping-Recycling Theft                 3\n",
       "Pocket-picking                            2\n",
       "Looting                                   1"
      ]
     },
     "execution_count": 113,
     "metadata": {},
     "output_type": "execute_result"
    }
   ],
   "source": [
    "# Filter to only include crimes committed on days with no precipitation.\n",
    "no_precip_crime = pd.DataFrame(combined_df[combined_df.PRCP == 0])\n",
    "\n",
    "# Get count of crimes committed on days with no precipitation.\n",
    "no_precip_crime_cnt = pd.DataFrame(no_precip_crime.Description.value_counts())\n",
    "no_precip_crime_cnt"
   ]
  },
  {
   "cell_type": "markdown",
   "metadata": {},
   "source": [
    "There were 3,628 motor vehicle thefts on days with no precipitation versus 1,417 on rainy days. I read once that there are  more motor vehicles stolen on rainy days than non rainy days. This does not apprear to be the case. It appears for most crimes, more are committed on days where there is no precipitation."
   ]
  },
  {
   "cell_type": "markdown",
   "metadata": {},
   "source": [
    "## Supervised Learning - Classification"
   ]
  },
  {
   "cell_type": "markdown",
   "metadata": {},
   "source": [
    "### Set the Goal"
   ]
  },
  {
   "cell_type": "markdown",
   "metadata": {},
   "source": [
    "Let's aim to build a classification model using the Minneapolis crime and weather dataset that is able to predict whether a crime will be violent based on neighboorhood, avg wind speed, precipitation, if it snowed, the snow depth, avg temperature, max temperature, min temperature, if it rained, the month or if it was a business day. This is a binary classification problem. \n",
    "\n",
    "We classify violent crimes as Asslt W/dngrs Weapon, Crim Sex Cond-rape, Domestic Assault/Strangulation, 1st Deg Domes Asslt, 2nd Deg Domes Aslt, 3rd Deg Domes Aslt, Aslt-sgnfcnt Bdly Hm, Aslt-police/emerg P, Murder (general) and Aslt-great Bodily Hm."
   ]
  },
  {
   "cell_type": "code",
   "execution_count": 151,
   "metadata": {},
   "outputs": [],
   "source": [
    "# Add Violent column to indicate the crime was violent.\n",
    "combined_df['Violent'] = np.where((combined_df.Description == 'Asslt W/dngrs Weapon') |\n",
    "                                  (combined_df.Description == 'Crim Sex Cond-rape') |\n",
    "                                  (combined_df.Description == 'Domestic Assault/Strangulation') |\n",
    "                                  (combined_df.Description == '1st Deg Domes Asslt')\n",
    "                                  (combined_df.Description == '2nd Deg Domes Aslt') |\n",
    "                                  (combined_df.Description == '3rd Deg Domes Aslt') |\n",
    "                                  (combined_df.Description == 'Aslt-sgnfcnt Bdly Hm') |\n",
    "                                  (combined_df.Description == 'Aslt-police/emerg P') |\n",
    "                                  (combined_df.Description == 'Murder (general)') |\n",
    "                                  (combined_df.Description == 'Aslt-great Bodily Hm'),1, 0)"
   ]
  },
  {
   "cell_type": "code",
   "execution_count": 177,
   "metadata": {
    "scrolled": true
   },
   "outputs": [
    {
     "data": {
      "text/plain": [
       "0    55922\n",
       "1     6040\n",
       "Name: Violent, dtype: int64"
      ]
     },
     "execution_count": 177,
     "metadata": {},
     "output_type": "execute_result"
    }
   ],
   "source": [
    "# Compare counts of violent and non-violent crimes in the data.\n",
    "combined_df.Violent.value_counts()"
   ]
  },
  {
   "cell_type": "markdown",
   "metadata": {},
   "source": [
    "There are only 6,040 violent crimes compared to 55,922 non-violent crimes in this dataset. The dataset is not well balanced."
   ]
  },
  {
   "cell_type": "code",
   "execution_count": 158,
   "metadata": {},
   "outputs": [],
   "source": [
    "# Filter out unnecessary columns \n",
    "df = combined_df[['Offense', 'Neighborhood', 'AWND', 'PRCP', 'SNOW', 'SNWD', 'TAVG', 'TMAX', 'TMIN', 'Rain', 'Month', 'BusDay', 'Violent']]"
   ]
  },
  {
   "cell_type": "code",
   "execution_count": 156,
   "metadata": {},
   "outputs": [],
   "source": [
    "def createCategoricalDummies(df, categoricalList):\n",
    "    return pd.get_dummies(df[categoricalList], prefix_sep = \"::\", drop_first = True)"
   ]
  },
  {
   "cell_type": "code",
   "execution_count": 160,
   "metadata": {
    "scrolled": false
   },
   "outputs": [
    {
     "data": {
      "text/html": [
       "<div>\n",
       "<style scoped>\n",
       "    .dataframe tbody tr th:only-of-type {\n",
       "        vertical-align: middle;\n",
       "    }\n",
       "\n",
       "    .dataframe tbody tr th {\n",
       "        vertical-align: top;\n",
       "    }\n",
       "\n",
       "    .dataframe thead th {\n",
       "        text-align: right;\n",
       "    }\n",
       "</style>\n",
       "<table border=\"1\" class=\"dataframe\">\n",
       "  <thead>\n",
       "    <tr style=\"text-align: right;\">\n",
       "      <th></th>\n",
       "      <th>AWND</th>\n",
       "      <th>PRCP</th>\n",
       "      <th>SNOW</th>\n",
       "      <th>SNWD</th>\n",
       "      <th>TAVG</th>\n",
       "      <th>TMAX</th>\n",
       "      <th>TMIN</th>\n",
       "      <th>Rain</th>\n",
       "      <th>BusDay</th>\n",
       "      <th>Violent</th>\n",
       "      <th>...</th>\n",
       "      <th>Month::Dec</th>\n",
       "      <th>Month::Feb</th>\n",
       "      <th>Month::Jan</th>\n",
       "      <th>Month::Jul</th>\n",
       "      <th>Month::Jun</th>\n",
       "      <th>Month::Mar</th>\n",
       "      <th>Month::May</th>\n",
       "      <th>Month::Nov</th>\n",
       "      <th>Month::Oct</th>\n",
       "      <th>Month::Sep</th>\n",
       "    </tr>\n",
       "  </thead>\n",
       "  <tbody>\n",
       "    <tr>\n",
       "      <th>0</th>\n",
       "      <td>10.51</td>\n",
       "      <td>0.0</td>\n",
       "      <td>0.0</td>\n",
       "      <td>3.1</td>\n",
       "      <td>18</td>\n",
       "      <td>30</td>\n",
       "      <td>11</td>\n",
       "      <td>0</td>\n",
       "      <td>1</td>\n",
       "      <td>1</td>\n",
       "      <td>...</td>\n",
       "      <td>0</td>\n",
       "      <td>0</td>\n",
       "      <td>1</td>\n",
       "      <td>0</td>\n",
       "      <td>0</td>\n",
       "      <td>0</td>\n",
       "      <td>0</td>\n",
       "      <td>0</td>\n",
       "      <td>0</td>\n",
       "      <td>0</td>\n",
       "    </tr>\n",
       "    <tr>\n",
       "      <th>1</th>\n",
       "      <td>10.51</td>\n",
       "      <td>0.0</td>\n",
       "      <td>0.0</td>\n",
       "      <td>3.1</td>\n",
       "      <td>18</td>\n",
       "      <td>30</td>\n",
       "      <td>11</td>\n",
       "      <td>0</td>\n",
       "      <td>1</td>\n",
       "      <td>0</td>\n",
       "      <td>...</td>\n",
       "      <td>0</td>\n",
       "      <td>0</td>\n",
       "      <td>1</td>\n",
       "      <td>0</td>\n",
       "      <td>0</td>\n",
       "      <td>0</td>\n",
       "      <td>0</td>\n",
       "      <td>0</td>\n",
       "      <td>0</td>\n",
       "      <td>0</td>\n",
       "    </tr>\n",
       "    <tr>\n",
       "      <th>2</th>\n",
       "      <td>10.51</td>\n",
       "      <td>0.0</td>\n",
       "      <td>0.0</td>\n",
       "      <td>3.1</td>\n",
       "      <td>18</td>\n",
       "      <td>30</td>\n",
       "      <td>11</td>\n",
       "      <td>0</td>\n",
       "      <td>1</td>\n",
       "      <td>0</td>\n",
       "      <td>...</td>\n",
       "      <td>0</td>\n",
       "      <td>0</td>\n",
       "      <td>1</td>\n",
       "      <td>0</td>\n",
       "      <td>0</td>\n",
       "      <td>0</td>\n",
       "      <td>0</td>\n",
       "      <td>0</td>\n",
       "      <td>0</td>\n",
       "      <td>0</td>\n",
       "    </tr>\n",
       "    <tr>\n",
       "      <th>3</th>\n",
       "      <td>10.51</td>\n",
       "      <td>0.0</td>\n",
       "      <td>0.0</td>\n",
       "      <td>3.1</td>\n",
       "      <td>18</td>\n",
       "      <td>30</td>\n",
       "      <td>11</td>\n",
       "      <td>0</td>\n",
       "      <td>1</td>\n",
       "      <td>1</td>\n",
       "      <td>...</td>\n",
       "      <td>0</td>\n",
       "      <td>0</td>\n",
       "      <td>1</td>\n",
       "      <td>0</td>\n",
       "      <td>0</td>\n",
       "      <td>0</td>\n",
       "      <td>0</td>\n",
       "      <td>0</td>\n",
       "      <td>0</td>\n",
       "      <td>0</td>\n",
       "    </tr>\n",
       "    <tr>\n",
       "      <th>4</th>\n",
       "      <td>10.51</td>\n",
       "      <td>0.0</td>\n",
       "      <td>0.0</td>\n",
       "      <td>3.1</td>\n",
       "      <td>18</td>\n",
       "      <td>30</td>\n",
       "      <td>11</td>\n",
       "      <td>0</td>\n",
       "      <td>1</td>\n",
       "      <td>0</td>\n",
       "      <td>...</td>\n",
       "      <td>0</td>\n",
       "      <td>0</td>\n",
       "      <td>1</td>\n",
       "      <td>0</td>\n",
       "      <td>0</td>\n",
       "      <td>0</td>\n",
       "      <td>0</td>\n",
       "      <td>0</td>\n",
       "      <td>0</td>\n",
       "      <td>0</td>\n",
       "    </tr>\n",
       "  </tbody>\n",
       "</table>\n",
       "<p>5 rows × 140 columns</p>\n",
       "</div>"
      ],
      "text/plain": [
       "    AWND  PRCP  SNOW  SNWD  TAVG  TMAX  TMIN  Rain  BusDay  Violent  ...  \\\n",
       "0  10.51   0.0   0.0   3.1    18    30    11     0       1        1  ...   \n",
       "1  10.51   0.0   0.0   3.1    18    30    11     0       1        0  ...   \n",
       "2  10.51   0.0   0.0   3.1    18    30    11     0       1        0  ...   \n",
       "3  10.51   0.0   0.0   3.1    18    30    11     0       1        1  ...   \n",
       "4  10.51   0.0   0.0   3.1    18    30    11     0       1        0  ...   \n",
       "\n",
       "   Month::Dec  Month::Feb  Month::Jan  Month::Jul  Month::Jun  Month::Mar  \\\n",
       "0           0           0           1           0           0           0   \n",
       "1           0           0           1           0           0           0   \n",
       "2           0           0           1           0           0           0   \n",
       "3           0           0           1           0           0           0   \n",
       "4           0           0           1           0           0           0   \n",
       "\n",
       "   Month::May  Month::Nov  Month::Oct  Month::Sep  \n",
       "0           0           0           0           0  \n",
       "1           0           0           0           0  \n",
       "2           0           0           0           0  \n",
       "3           0           0           0           0  \n",
       "4           0           0           0           0  \n",
       "\n",
       "[5 rows x 140 columns]"
      ]
     },
     "execution_count": 160,
     "metadata": {},
     "output_type": "execute_result"
    }
   ],
   "source": [
    "categoricalList = ['Offense','Neighborhood', 'Rain', 'Month', 'BusDay', 'Violent']\n",
    "\n",
    "df = pd.concat([df.drop(categoricalList,axis=1), createCategoricalDummies(df,categoricalList)], axis = 1)\n",
    "df.head()"
   ]
  },
  {
   "cell_type": "markdown",
   "metadata": {},
   "source": [
    "## Preparing Data for Modeling"
   ]
  },
  {
   "cell_type": "code",
   "execution_count": 163,
   "metadata": {},
   "outputs": [
    {
     "data": {
      "text/plain": [
       "['AWND',\n",
       " 'PRCP',\n",
       " 'SNOW',\n",
       " 'SNWD',\n",
       " 'TAVG',\n",
       " 'TMAX',\n",
       " 'TMIN',\n",
       " 'Rain',\n",
       " 'BusDay',\n",
       " 'Offense::ASLT1',\n",
       " 'Offense::ASLT2',\n",
       " 'Offense::ASLT3',\n",
       " 'Offense::ASLT4',\n",
       " 'Offense::AUTOTH',\n",
       " 'Offense::BIKETF',\n",
       " 'Offense::BURGB',\n",
       " 'Offense::BURGD',\n",
       " 'Offense::COINOP',\n",
       " 'Offense::COMPUT',\n",
       " 'Offense::CSCR',\n",
       " 'Offense::DASLT1',\n",
       " 'Offense::DASLT2',\n",
       " 'Offense::DASLT3',\n",
       " 'Offense::DASTR',\n",
       " 'Offense::DISARM',\n",
       " 'Offense::LOOT',\n",
       " 'Offense::MURDR',\n",
       " 'Offense::MVTHFT',\n",
       " 'Offense::NOPAY',\n",
       " 'Offense::ONLTHT',\n",
       " 'Offense::POCKET',\n",
       " 'Offense::ROBBIZ',\n",
       " 'Offense::ROBPAG',\n",
       " 'Offense::ROBPER',\n",
       " 'Offense::SCRAP',\n",
       " 'Offense::SHOPLF',\n",
       " 'Offense::TBLDG',\n",
       " 'Offense::TFMV',\n",
       " 'Offense::TFPER',\n",
       " 'Offense::THEFT',\n",
       " 'Offense::THFTSW',\n",
       " 'Offense::TMVP',\n",
       " 'Neighborhood::AUDUBON PARK',\n",
       " 'Neighborhood::BANCROFT',\n",
       " 'Neighborhood::BELTRAMI',\n",
       " 'Neighborhood::BOTTINEAU',\n",
       " 'Neighborhood::BRYANT',\n",
       " 'Neighborhood::BRYN - MAWR',\n",
       " 'Neighborhood::CAMDEN INDUSTRIAL',\n",
       " 'Neighborhood::CARAG',\n",
       " 'Neighborhood::CEDAR - ISLES - DEAN',\n",
       " 'Neighborhood::CEDAR RIVERSIDE',\n",
       " 'Neighborhood::CENTRAL',\n",
       " 'Neighborhood::CLEVELAND',\n",
       " 'Neighborhood::COLUMBIA PARK',\n",
       " 'Neighborhood::COMO',\n",
       " 'Neighborhood::COOPER',\n",
       " 'Neighborhood::CORCORAN',\n",
       " 'Neighborhood::DIAMOND LAKE',\n",
       " 'Neighborhood::DOWNTOWN EAST',\n",
       " 'Neighborhood::DOWNTOWN WEST',\n",
       " 'Neighborhood::EAST HARRIET',\n",
       " 'Neighborhood::EAST ISLES',\n",
       " 'Neighborhood::EAST PHILLIPS',\n",
       " 'Neighborhood::ECCO',\n",
       " 'Neighborhood::ELLIOT PARK',\n",
       " 'Neighborhood::ERICSSON',\n",
       " 'Neighborhood::FIELD',\n",
       " 'Neighborhood::FOLWELL',\n",
       " 'Neighborhood::FULTON',\n",
       " 'Neighborhood::HALE',\n",
       " 'Neighborhood::HARRISON',\n",
       " 'Neighborhood::HAWTHORNE',\n",
       " 'Neighborhood::HIAWATHA',\n",
       " 'Neighborhood::HOLLAND',\n",
       " 'Neighborhood::HOWE',\n",
       " 'Neighborhood::HUMBOLDT INDUSTRIAL AREA',\n",
       " 'Neighborhood::JORDAN',\n",
       " 'Neighborhood::KEEWAYDIN',\n",
       " 'Neighborhood::KENNY',\n",
       " 'Neighborhood::KENWOOD',\n",
       " 'Neighborhood::KING FIELD',\n",
       " 'Neighborhood::LIND - BOHANON',\n",
       " 'Neighborhood::LINDEN HILLS',\n",
       " 'Neighborhood::LOGAN PARK',\n",
       " 'Neighborhood::LONGFELLOW',\n",
       " 'Neighborhood::LORING PARK',\n",
       " 'Neighborhood::LOWRY HILL',\n",
       " 'Neighborhood::LOWRY HILL EAST',\n",
       " 'Neighborhood::LYNDALE',\n",
       " 'Neighborhood::LYNNHURST',\n",
       " 'Neighborhood::MARCY HOLMES',\n",
       " 'Neighborhood::MARSHALL TERRACE',\n",
       " 'Neighborhood::MCKINLEY',\n",
       " 'Neighborhood::MID - CITY INDUSTRIAL',\n",
       " 'Neighborhood::MIDTOWN PHILLIPS',\n",
       " 'Neighborhood::MINNEHAHA',\n",
       " 'Neighborhood::MORRIS PARK',\n",
       " 'Neighborhood::NEAR - NORTH',\n",
       " 'Neighborhood::NICOLLET ISLAND - EAST BANK',\n",
       " 'Neighborhood::NORTH LOOP',\n",
       " 'Neighborhood::NORTHEAST PARK',\n",
       " 'Neighborhood::NORTHROP',\n",
       " 'Neighborhood::PAGE',\n",
       " 'Neighborhood::PHILLIPS WEST',\n",
       " 'Neighborhood::POWDERHORN PARK',\n",
       " 'Neighborhood::PROSPECT PARK - EAST RIVER ROAD',\n",
       " 'Neighborhood::REGINA',\n",
       " 'Neighborhood::SEWARD',\n",
       " 'Neighborhood::SHERIDAN',\n",
       " 'Neighborhood::SHINGLE CREEK',\n",
       " 'Neighborhood::ST. ANTHONY EAST',\n",
       " 'Neighborhood::ST. ANTHONY WEST',\n",
       " 'Neighborhood::STANDISH',\n",
       " 'Neighborhood::STEVENS SQUARE - LORING HEIGHTS',\n",
       " 'Neighborhood::SUMNER - GLENWOOD',\n",
       " 'Neighborhood::TANGLETOWN',\n",
       " 'Neighborhood::UNIVERSITY OF MINNESOTA',\n",
       " 'Neighborhood::VENTURA VILLAGE',\n",
       " 'Neighborhood::VICTORY',\n",
       " 'Neighborhood::WAITE PARK',\n",
       " 'Neighborhood::WEBBER - CAMDEN',\n",
       " 'Neighborhood::WENONAH',\n",
       " 'Neighborhood::WEST CALHOUN',\n",
       " 'Neighborhood::WHITTIER',\n",
       " 'Neighborhood::WILLARD - HAY',\n",
       " 'Neighborhood::WINDOM',\n",
       " 'Neighborhood::WINDOM PARK',\n",
       " 'Month::Aug',\n",
       " 'Month::Dec',\n",
       " 'Month::Feb',\n",
       " 'Month::Jan',\n",
       " 'Month::Jul',\n",
       " 'Month::Jun',\n",
       " 'Month::Mar',\n",
       " 'Month::May',\n",
       " 'Month::Nov',\n",
       " 'Month::Oct',\n",
       " 'Month::Sep']"
      ]
     },
     "execution_count": 163,
     "metadata": {},
     "output_type": "execute_result"
    }
   ],
   "source": [
    "features = list(df.columns)\n",
    "features.remove('Violent')\n",
    "features"
   ]
  },
  {
   "cell_type": "code",
   "execution_count": 164,
   "metadata": {},
   "outputs": [],
   "source": [
    "target = \"Violent\""
   ]
  },
  {
   "cell_type": "code",
   "execution_count": 165,
   "metadata": {},
   "outputs": [],
   "source": [
    "X = df[features]\n",
    "y = df[target]"
   ]
  },
  {
   "cell_type": "markdown",
   "metadata": {},
   "source": [
    "For supervised learning tasks, you need a feature dataset <i>X</i> and a target dataset <i>y</i>."
   ]
  },
  {
   "cell_type": "code",
   "execution_count": 169,
   "metadata": {},
   "outputs": [],
   "source": [
    "X_train, X_test, y_train, y_test = train_test_split(X, y, test_size=0.25, random_state=0)"
   ]
  },
  {
   "cell_type": "markdown",
   "metadata": {},
   "source": [
    "## Modeling with k-Nearest Neighbors (k-NN)"
   ]
  },
  {
   "cell_type": "code",
   "execution_count": 171,
   "metadata": {},
   "outputs": [],
   "source": [
    "knn = KNeighborsClassifier(n_neighbors=3)     # Build a new k-NN classification model with k set to 3"
   ]
  },
  {
   "cell_type": "code",
   "execution_count": 172,
   "metadata": {},
   "outputs": [
    {
     "data": {
      "text/plain": [
       "KNeighborsClassifier(n_neighbors=3)"
      ]
     },
     "execution_count": 172,
     "metadata": {},
     "output_type": "execute_result"
    }
   ],
   "source": [
    "knn.fit(X_train, y_train)                     # Fit the model using the two training datasets "
   ]
  },
  {
   "cell_type": "code",
   "execution_count": 173,
   "metadata": {},
   "outputs": [
    {
     "data": {
      "text/plain": [
       "0.9588990983624196"
      ]
     },
     "execution_count": 173,
     "metadata": {},
     "output_type": "execute_result"
    }
   ],
   "source": [
    "knn.score(X_train, y_train)                   # Get the training score of the model "
   ]
  },
  {
   "cell_type": "code",
   "execution_count": 174,
   "metadata": {
    "scrolled": true
   },
   "outputs": [
    {
     "data": {
      "text/plain": [
       "0.9273126331418243"
      ]
     },
     "execution_count": 174,
     "metadata": {},
     "output_type": "execute_result"
    }
   ],
   "source": [
    "knn.score(X_test, y_test)                     # Get the test score of the model "
   ]
  },
  {
   "cell_type": "markdown",
   "metadata": {},
   "source": [
    "The reason these scores are high is probably because the dataset is unbalanced. There are many more non-violent than violent crimes. This makes predicting the violent crimes easy."
   ]
  },
  {
   "cell_type": "markdown",
   "metadata": {},
   "source": [
    "## Confusion Matrix for k-NN Model"
   ]
  },
  {
   "cell_type": "code",
   "execution_count": 181,
   "metadata": {},
   "outputs": [
    {
     "data": {
      "text/html": [
       "<img src=\"https://media.geeksforgeeks.org/wp-content/uploads/Confusion_Matrix1_1.png\"/>"
      ],
      "text/plain": [
       "<IPython.core.display.Image object>"
      ]
     },
     "execution_count": 181,
     "metadata": {},
     "output_type": "execute_result"
    }
   ],
   "source": [
    "from IPython.display import Image\n",
    "Image(url=\"https://media.geeksforgeeks.org/wp-content/uploads/Confusion_Matrix1_1.png\")"
   ]
  },
  {
   "cell_type": "code",
   "execution_count": 180,
   "metadata": {
    "scrolled": false
   },
   "outputs": [
    {
     "name": "stdout",
     "output_type": "stream",
     "text": [
      "confusion matrix:\n",
      "[[13944    61]\n",
      " [ 1065   421]]\n",
      "accuracy: 0.927\n",
      "recall: 0.283\n",
      "precision: 0.873\n",
      "f-measure: 0.428\n",
      "              precision    recall  f1-score   support\n",
      "\n",
      "           0       0.93      1.00      0.96     14005\n",
      "           1       0.87      0.28      0.43      1486\n",
      "\n",
      "    accuracy                           0.93     15491\n",
      "   macro avg       0.90      0.64      0.69     15491\n",
      "weighted avg       0.92      0.93      0.91     15491\n",
      "\n"
     ]
    }
   ],
   "source": [
    "# Make predictions against the test set\n",
    "pred = knn.predict(X_test)\n",
    "\n",
    "# Show the confusion matrix\n",
    "print(\"confusion matrix:\")\n",
    "print(confusion_matrix(y_test, pred))\n",
    "\n",
    "# Find the accuracy scores of the predictions against the true classes\n",
    "print(\"accuracy: %0.3f\" % accuracy_score(y_test, pred))\n",
    "print(\"recall: %0.3f\" % recall_score(y_test, pred))\n",
    "print(\"precision: %0.3f\" % precision_score(y_test, pred))\n",
    "print(\"f-measure: %0.3f\" % fbeta_score(y_test, pred, beta=1))\n",
    "print(classification_report(y_test,pred))"
   ]
  },
  {
   "cell_type": "markdown",
   "metadata": {},
   "source": [
    "## Modeling with Logistic Regression"
   ]
  },
  {
   "cell_type": "code",
   "execution_count": 187,
   "metadata": {},
   "outputs": [],
   "source": [
    "lr = LogisticRegression(solver=\"liblinear\")   # Build a new logistic regression model"
   ]
  },
  {
   "cell_type": "code",
   "execution_count": 188,
   "metadata": {},
   "outputs": [
    {
     "data": {
      "text/plain": [
       "LogisticRegression(solver='liblinear')"
      ]
     },
     "execution_count": 188,
     "metadata": {},
     "output_type": "execute_result"
    }
   ],
   "source": [
    "lr.fit(X_train, y_train)"
   ]
  },
  {
   "cell_type": "code",
   "execution_count": 189,
   "metadata": {},
   "outputs": [
    {
     "data": {
      "text/plain": [
       "1.0"
      ]
     },
     "execution_count": 189,
     "metadata": {},
     "output_type": "execute_result"
    }
   ],
   "source": [
    "lr.score(X_train, y_train)"
   ]
  },
  {
   "cell_type": "code",
   "execution_count": 190,
   "metadata": {},
   "outputs": [
    {
     "data": {
      "text/plain": [
       "1.0"
      ]
     },
     "execution_count": 190,
     "metadata": {},
     "output_type": "execute_result"
    }
   ],
   "source": [
    "lr.score(X_test, y_test)"
   ]
  },
  {
   "cell_type": "code",
   "execution_count": 191,
   "metadata": {},
   "outputs": [
    {
     "name": "stdout",
     "output_type": "stream",
     "text": [
      "confusion matrix:\n",
      "[[14005     0]\n",
      " [    0  1486]]\n",
      "accuracy: 1.000\n",
      "recall: 1.000\n",
      "precision: 1.000\n",
      "f-measure: 1.000\n"
     ]
    }
   ],
   "source": [
    "# Make predictions against the test set\n",
    "pred = lr.predict(X_test)\n",
    "\n",
    "# Show the confusion matrix\n",
    "print(\"confusion matrix:\")\n",
    "print(confusion_matrix(y_test, pred))\n",
    "\n",
    "# Find the accuracy scores of the predictions against the true classes\n",
    "print(\"accuracy: %0.3f\" % accuracy_score(y_test, pred))\n",
    "print(\"recall: %0.3f\" % recall_score(y_test, pred))\n",
    "print(\"precision: %0.3f\" % precision_score(y_test, pred))\n",
    "print(\"f-measure: %0.3f\" % fbeta_score(y_test, pred, beta=1))"
   ]
  }
 ],
 "metadata": {
  "kernelspec": {
   "display_name": "Python 3",
   "language": "python",
   "name": "python3"
  },
  "language_info": {
   "codemirror_mode": {
    "name": "ipython",
    "version": 3
   },
   "file_extension": ".py",
   "mimetype": "text/x-python",
   "name": "python",
   "nbconvert_exporter": "python",
   "pygments_lexer": "ipython3",
   "version": "3.8.3"
  }
 },
 "nbformat": 4,
 "nbformat_minor": 4
}
